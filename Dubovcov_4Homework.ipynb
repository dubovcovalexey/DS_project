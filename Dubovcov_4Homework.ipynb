{
 "cells": [
  {
   "cell_type": "code",
   "execution_count": 99,
   "id": "b51ab553-a95f-404f-8d58-b1a771d5012f",
   "metadata": {},
   "outputs": [
    {
     "name": "stdin",
     "output_type": "stream",
     "text": [
      "x =  1.78\n"
     ]
    },
    {
     "name": "stdout",
     "output_type": "stream",
     "text": [
      "2.7737097836346436\n"
     ]
    }
   ],
   "source": [
    "# 1 Пример\n",
    "import math\n",
    "\n",
    "x = float(input(\"x = \"))\n",
    "\n",
    "def primer(x):\n",
    "    print((math.cos(math.exp(x)) + math.log(1 + x)**2 + math.sqrt(math.exp(math.cos(x)) + (math.sin(math.pi * x))**2 ) \n",
    "     + math.sqrt(1/x) + math.cos(x**2))**math.sin(x))\n",
    "\n",
    "primer(x)\n"
   ]
  },
  {
   "cell_type": "code",
   "execution_count": 100,
   "id": "98e8ed7b-91c8-4ac6-a156-485e90a1ab33",
   "metadata": {},
   "outputs": [
    {
     "name": "stdin",
     "output_type": "stream",
     "text": [
      "первая строка =  fdgd\n",
      "вторая строка =  fg\n"
     ]
    },
    {
     "name": "stdout",
     "output_type": "stream",
     "text": [
      "Мимо!\n"
     ]
    }
   ],
   "source": [
    "# 2 search_substr(subst, st)\n",
    "subst = str(input(\"первая строка = \"))\n",
    "st = str(input(\"вторая строка = \"))\n",
    "\n",
    "def search_substr(subst, st):\n",
    "    if subst.lower() in st.lower():\n",
    "        print('Есть контакт!')\n",
    "    else:\n",
    "        print('Мимо!')\n",
    "\n",
    "search_substr(subst, st)"
   ]
  },
  {
   "cell_type": "code",
   "execution_count": 101,
   "id": "06ff8ccb-8f8b-4b62-8baa-9eb35a9a1ed4",
   "metadata": {},
   "outputs": [
    {
     "name": "stdin",
     "output_type": "stream",
     "text": [
      "строка =  fdfgdgegerd\n"
     ]
    },
    {
     "name": "stdout",
     "output_type": "stream",
     "text": [
      "[('d', 3), ('g', 3), ('f', 2)]\n"
     ]
    }
   ],
   "source": [
    "# 3 Counter\n",
    "\n",
    "from collections import Counter\n",
    "st = str(input(\"строка = \"))\n",
    "\n",
    "def top3(st): \n",
    "    st2 = st.replace(\" \", \"\")\n",
    "    count_all = Counter(st2)\n",
    "    print(count_all.most_common(3))\n",
    "\n",
    "top3(st)"
   ]
  },
  {
   "cell_type": "code",
   "execution_count": 102,
   "id": "1b767ae5-115d-4437-95cb-14f1ba1ae4c0",
   "metadata": {},
   "outputs": [
    {
     "name": "stdin",
     "output_type": "stream",
     "text": [
      "цифры =  2343242424\n"
     ]
    },
    {
     "name": "stdout",
     "output_type": "stream",
     "text": [
      "[('2', 4), ('4', 4), ('3', 2)]\n"
     ]
    }
   ],
   "source": [
    "# 4 count_it(sequence)\n",
    "\n",
    "from collections import Counter\n",
    "sequence = input(\"цифры = \")\n",
    "\n",
    "def count_it(sequence): \n",
    "    for i in sequence:\n",
    "        i = int(i)\n",
    "    \n",
    "    count = Counter(sequence)\n",
    "    print(count.most_common(3)) \n",
    "    \n",
    "count_it(sequence)"
   ]
  },
  {
   "cell_type": "code",
   "execution_count": 58,
   "id": "9c64952b-b435-45cf-a636-e74f4fc4084c",
   "metadata": {},
   "outputs": [
    {
     "name": "stdin",
     "output_type": "stream",
     "text": [
      " 5\n",
      " 5\n",
      " 6\n",
      " 6\n"
     ]
    },
    {
     "name": "stdout",
     "output_type": "stream",
     "text": [
      "угрожает\n"
     ]
    }
   ],
   "source": [
    "# 5 a) вражеская фигура ферзь \n",
    "\n",
    "a = int(input())\n",
    "b = int(input())\n",
    "c = int(input())\n",
    "d = int(input())\n",
    "\n",
    "if c == a or b == d:\n",
    "    print('угрожает')\n",
    "if abs(a-b) == (c-d):\n",
    "    print('угрожает')    \n",
    "else:\n",
    "    print('не угрожает')"
   ]
  },
  {
   "cell_type": "code",
   "execution_count": 71,
   "id": "0faace00-747a-46a1-8de9-1d8fd5684b5d",
   "metadata": {},
   "outputs": [
    {
     "name": "stdin",
     "output_type": "stream",
     "text": [
      " 4\n",
      " 4\n",
      " 8\n",
      " 6\n"
     ]
    },
    {
     "name": "stdout",
     "output_type": "stream",
     "text": [
      "не угрожает\n"
     ]
    }
   ],
   "source": [
    "# 5 б) вражеская фигура конь \n",
    "\n",
    "a = int(input())\n",
    "b = int(input())\n",
    "c = int(input())\n",
    "d = int(input())\n",
    "\n",
    "if abs(c - a) == 2 and abs(d - b) == 1:\n",
    "    print('угрожает')\n",
    "if abs(c - a) == 1 and abs(d - b) == 2:\n",
    "    print('угрожает')    \n",
    "else: \n",
    "    print('не угрожает')\n",
    "\n"
   ]
  },
  {
   "cell_type": "code",
   "execution_count": null,
   "id": "d6b4fade-e256-47dd-aa20-7a6a2ce871a0",
   "metadata": {},
   "outputs": [],
   "source": []
  }
 ],
 "metadata": {
  "kernelspec": {
   "display_name": "Python [conda env:base] *",
   "language": "python",
   "name": "conda-base-py"
  },
  "language_info": {
   "codemirror_mode": {
    "name": "ipython",
    "version": 3
   },
   "file_extension": ".py",
   "mimetype": "text/x-python",
   "name": "python",
   "nbconvert_exporter": "python",
   "pygments_lexer": "ipython3",
   "version": "3.13.5"
  }
 },
 "nbformat": 4,
 "nbformat_minor": 5
}
