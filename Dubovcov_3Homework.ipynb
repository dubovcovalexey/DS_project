{
 "cells": [
  {
   "cell_type": "code",
   "execution_count": 2,
   "id": "f7458929-fe31-4114-96fe-b8c1110266df",
   "metadata": {},
   "outputs": [
    {
     "name": "stdin",
     "output_type": "stream",
     "text": [
      "a =  1\n",
      "b =  -12\n",
      "c =  +20\n"
     ]
    },
    {
     "name": "stdout",
     "output_type": "stream",
     "text": [
      "10.0 2.0\n"
     ]
    }
   ],
   "source": [
    "1.1) #y**2-12y+20=0\n",
    "#z**2+12z+72=0\n",
    "#x**2-7x-44=0\n",
    "#y**2+9y+8=0\n",
    "#b*2-2b-63=0\n",
    "\n",
    "a = float(input(\"a = \"))\n",
    "b = float(input(\"b = \"))\n",
    "c = float(input(\"c = \"))\n",
    "\n",
    "D = b**2 - 4 * a * c\n",
    "x1 = (-b + D**0.5) / (2 * a)\n",
    "x2 = (-b - D**0.5) / (2 * a)\n",
    "\n",
    "print('Корни уравнения', x1, x2)\n"
   ]
  },
  {
   "cell_type": "code",
   "execution_count": 8,
   "id": "4bf911ed-fdd3-4ac7-a06c-cdb101423b1a",
   "metadata": {},
   "outputs": [
    {
     "name": "stdout",
     "output_type": "stream",
     "text": [
      "Корни уравнения 1 уровня 1.0 -5.0\n",
      "Уравнение 1 уровня x**2 - 8 = 1.0 или x**2 - 8 = -5.0\n",
      "x1 = 3.0 x2 = 1.7320508075688772\n"
     ]
    }
   ],
   "source": [
    "#1.2) (x**2- 8)**2 + 4 * (x**2 - 8) - 5 = 0\n",
    "#a = (x**2- 8)\n",
    "\n",
    "a = 1\n",
    "b = 4\n",
    "c = -5\n",
    "\n",
    "D = b**2 - 4 * a * c\n",
    "x1 = (-b + D**0.5) / (2 * a)\n",
    "x2 = (-b - D**0.5) / (2 * a)\n",
    "\n",
    "print('Корни уравнения 1 уровня', x1, x2)\n",
    "print('Уравнение 1 уровня x**2 - 8 =', x1, 'или x**2 - 8 =', x2)\n",
    "z1 = 9**0.5\n",
    "z2 = 3**0.5\n",
    "print('x1 =', z1, 'x2 =', z2)\n"
   ]
  },
  {
   "cell_type": "code",
   "execution_count": 30,
   "id": "dc4913a2-5347-4454-a8d1-a0e0da189a62",
   "metadata": {},
   "outputs": [
    {
     "data": {
      "text/plain": [
       "[9, 8, 6, -4, 1, -1, 5, 5, 3]"
      ]
     },
     "execution_count": 30,
     "metadata": {},
     "output_type": "execute_result"
    }
   ],
   "source": [
    "#2)\n",
    "\n",
    "a: list = [3, 5, 5, -1, 1, -4, 6, 8, 9]\n",
    "b = 1\n",
    "c = 0\n",
    "d = len(a) // 2 \n",
    "\n",
    "for i in range(0, d):\n",
    "    a[c], a[len(a) - b]  = a[len(a) - b], a[c]\n",
    "    b = b + 1\n",
    "    c = c + 1\n",
    "\n",
    "a"
   ]
  },
  {
   "cell_type": "code",
   "execution_count": 36,
   "id": "85fdddd1-e254-4a70-901c-0cc1036d5c35",
   "metadata": {},
   "outputs": [
    {
     "data": {
      "text/plain": [
       "[5, 2, 3, 4, 1]"
      ]
     },
     "execution_count": 36,
     "metadata": {},
     "output_type": "execute_result"
    }
   ],
   "source": [
    "#3)\n",
    "\n",
    "lst = [1, 2, 3, 4, 5]\n",
    "\n",
    "def change(lst):\n",
    "    lst[0],  lst[len(lst) - 1]  = lst[len(lst) - 1], lst[0]\n",
    "\n",
    "change(lst)\n",
    "lst"
   ]
  },
  {
   "cell_type": "code",
   "execution_count": 114,
   "id": "bd76dcea-5201-4de4-853f-4f8988db15ce",
   "metadata": {},
   "outputs": [
    {
     "name": "stdout",
     "output_type": "stream",
     "text": [
      "ответ: 1.5\n"
     ]
    }
   ],
   "source": [
    "#4)\n",
    "\n",
    "a: list = [3, 5, 5, -1, 1, -4, 15, 6, 8, 9]\n",
    "b = 0\n",
    "c = len(a)\n",
    "\n",
    "for i in range(0, len(a)-1):\n",
    "    if b < len(a)-1:\n",
    "        if a[b] >= a[b + 1]:\n",
    "            a.pop(b + 1)\n",
    "        else:\n",
    "            a.pop(b)\n",
    "\n",
    "print('ответ:', a[0] / c)\n",
    "\n"
   ]
  },
  {
   "cell_type": "code",
   "execution_count": 120,
   "id": "77f5fabf-f964-43ab-b324-5845f97171d7",
   "metadata": {},
   "outputs": [
    {
     "data": {
      "text/plain": [
       "['крот____', 'белка___', 'выхухоль', 'кот_____', 'чубака__']"
      ]
     },
     "execution_count": 120,
     "metadata": {},
     "output_type": "execute_result"
    }
   ],
   "source": [
    "#5) all_eq(lst),\n",
    "\n",
    "a: list = ['крот', 'белка', 'выхухоль', 'кот', 'чубака']\n",
    "\n",
    "def all_eq(a):\n",
    "    b = 0\n",
    "    for i in range(0, len(a)-1):\n",
    "        if len(a[b]) > len(a[b+1]):\n",
    "            a[b+1] =  a[b+1] + '_' * (len(a[b]) - len(a[b+1]))\n",
    "            b = b + 1\n",
    "        else:\n",
    "            a[b] =  a[b] + '_' * (len(a[b+1]) - len(a[b]))\n",
    "            b = b + 1\n",
    "\n",
    "    b = len(a)-1\n",
    "    for i in range(len(a)-1, -1, -1):\n",
    "        if len(a[b]) > len(a[b-1]):\n",
    "            a[b-1] =  a[b-1] + '_' * (len(a[b]) - len(a[b-1]))\n",
    "            b = b - 1\n",
    "        else:\n",
    "            a[b] =  a[b] + '_' * (len(a[b-1]) - len(a[b]))\n",
    "            b = b - 1\n",
    "    \n",
    "all_eq(a)\n",
    "a\n"
   ]
  }
 ],
 "metadata": {
  "kernelspec": {
   "display_name": "Python [conda env:base] *",
   "language": "python",
   "name": "conda-base-py"
  },
  "language_info": {
   "codemirror_mode": {
    "name": "ipython",
    "version": 3
   },
   "file_extension": ".py",
   "mimetype": "text/x-python",
   "name": "python",
   "nbconvert_exporter": "python",
   "pygments_lexer": "ipython3",
   "version": "3.13.5"
  }
 },
 "nbformat": 4,
 "nbformat_minor": 5
}
