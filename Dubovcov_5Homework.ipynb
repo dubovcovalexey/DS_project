{
 "cells": [
  {
   "cell_type": "code",
   "execution_count": 27,
   "id": "cbb54f6b-2bbe-4a50-ab9b-096d2bf5b198",
   "metadata": {},
   "outputs": [
    {
     "data": {
      "text/plain": [
       "['robin', 'singh', 'first']"
      ]
     },
     "execution_count": 27,
     "metadata": {},
     "output_type": "execute_result"
    }
   ],
   "source": [
    "# 1\n",
    "text: str = 'robin singh first '\n",
    "\n",
    "def create_matrix(s) -> list[str]:\n",
    "    matrix = []\n",
    "    word = ''\n",
    "    for letter in s:\n",
    "        if letter == ' ':\n",
    "            matrix.append(word)\n",
    "            word = ''\n",
    "        else:\n",
    "            word +=  letter\n",
    "    if word != '':\n",
    "        matrix.append(word)\n",
    "    return matrix\n",
    "\n",
    "\n",
    "create_matrix(text) "
   ]
  },
  {
   "cell_type": "code",
   "execution_count": 34,
   "id": "3c219b7f-5029-47d5-a553-9291e1e8bf7f",
   "metadata": {},
   "outputs": [
    {
     "data": {
      "text/plain": [
       "5.0"
      ]
     },
     "execution_count": 34,
     "metadata": {},
     "output_type": "execute_result"
    }
   ],
   "source": [
    "# 2\n",
    "\n",
    "litr: int = 10\n",
    "voda: float= 0.5\n",
    "\n",
    "def velosiped(n):\n",
    "    otvet = n // (1 / voda)\n",
    "    return otvet\n",
    "\n",
    "\n",
    "velosiped(litr) "
   ]
  },
  {
   "cell_type": "code",
   "execution_count": 45,
   "id": "46d0b7ca-205f-4c6d-b662-10cdd326363e",
   "metadata": {},
   "outputs": [
    {
     "data": {
      "text/plain": [
       "[11, 10, 9, 8, 7, 6, 5, 4, 3, 2, 1]"
      ]
     },
     "execution_count": 45,
     "metadata": {},
     "output_type": "execute_result"
    }
   ],
   "source": [
    "# 3\n",
    "\n",
    "x: int = 11\n",
    "\n",
    "def chisla(n):\n",
    "    matrix = []\n",
    "    for n in range (x, 0, -1):\n",
    "        matrix.append(n)\n",
    "    return matrix\n",
    "\n",
    "\n",
    "chisla(x) "
   ]
  },
  {
   "cell_type": "code",
   "execution_count": 56,
   "id": "7c13a034-36ce-48e4-afb1-87b320c890a4",
   "metadata": {},
   "outputs": [
    {
     "name": "stdout",
     "output_type": "stream",
     "text": [
      "21\n"
     ]
    }
   ],
   "source": [
    "# 4\n",
    "year: int = 2020\n",
    "\n",
    "def vek(n):\n",
    "    if n % 100 == 0:\n",
    "        print(n // 100)\n",
    "    else:\n",
    "        print(n // 100 + 1)\n",
    "\n",
    "vek(year) \n"
   ]
  },
  {
   "cell_type": "code",
   "execution_count": 70,
   "id": "7955bd55-a59a-4daa-8cc1-ef68d692ea18",
   "metadata": {},
   "outputs": [
    {
     "name": "stdout",
     "output_type": "stream",
     "text": [
      "['3', '5', '3', '5', '4', '1', '1']\n"
     ]
    }
   ],
   "source": [
    "# 5\n",
    "\n",
    "x: int = 1145353\n",
    "\n",
    "def chisla(n):\n",
    "    matrix = []\n",
    "    for n in str(x)[-1::-1]:\n",
    "        matrix.append(n)\n",
    "    print(matrix)\n",
    "\n",
    "\n",
    "chisla(x) "
   ]
  },
  {
   "cell_type": "code",
   "execution_count": 106,
   "id": "ffdb196a-69b9-4ba2-9597-d68c622d0e88",
   "metadata": {},
   "outputs": [
    {
     "data": {
      "text/plain": [
       "[[1, 2, 3, 4, 5],\n",
       " [10, 9, 8, 7, 6],\n",
       " [11, 12, 13, 14, 15],\n",
       " [20, 19, 18, 17, 16],\n",
       " [21, 22, 23, 24, 25]]"
      ]
     },
     "execution_count": 106,
     "metadata": {},
     "output_type": "execute_result"
    }
   ],
   "source": [
    "# 6.1\n",
    "def create_matrix(n):\n",
    "    matrix = []\n",
    "    tmp = []\n",
    "    for i in range(n**2):\n",
    "        tmp.append(i+1)\n",
    "        if len(tmp) == n:\n",
    "            matrix.append(tmp)\n",
    "            tmp = []\n",
    "    return matrix    \n",
    "\n",
    "def upload_matrix(matrix: list[list], n):\n",
    "    for idx,i in enumerate(matrix):\n",
    "        if idx % 2 != 0:\n",
    "           for j in range(len(i)):\n",
    "               matrix[idx][j] = (idx +1) * n - j\n",
    "               \n",
    "    return matrix\n",
    "\n",
    "tran = upload_matrix(create_matrix(5), 5)  \n",
    "tran\n",
    "\n",
    "\n"
   ]
  },
  {
   "cell_type": "code",
   "execution_count": 113,
   "id": "311b3e26-d6e7-4159-9012-302986052a17",
   "metadata": {},
   "outputs": [
    {
     "data": {
      "text/plain": [
       "[[1, 10, 11, 20, 21],\n",
       " [2, 9, 12, 19, 22],\n",
       " [3, 8, 13, 18, 23],\n",
       " [4, 7, 14, 17, 24],\n",
       " [5, 6, 15, 16, 25]]"
      ]
     },
     "execution_count": 113,
     "metadata": {},
     "output_type": "execute_result"
    }
   ],
   "source": [
    "def create_matrix(n):\n",
    "    matrix = []\n",
    "    tmp = []\n",
    "    for i in range(n**2):\n",
    "        tmp.append(i+1)\n",
    "        if len(tmp) == n:\n",
    "            matrix.append(tmp)\n",
    "            tmp = []\n",
    "    return matrix    \n",
    "\n",
    "def upload_matrix(matrix: list[list], n):\n",
    "    tmp = []\n",
    "    for j in range(len(matrix)):\n",
    "        tmp2 = []\n",
    "        for i in range(len(matrix)):\n",
    "            tmp2.append(matrix[i][j])\n",
    "        tmp.append(tmp2)\n",
    "\n",
    "    return tmp\n",
    "\n",
    "\n",
    "tran = upload_matrix(create_matrix(5), 5) \n",
    "tran\n",
    "\n",
    "def upload_matrix(tran: list[list], n):\n",
    "    new_matrix = []\n",
    "    for i in range(n):\n",
    "        tmp = []\n",
    "        for j in range(n):\n",
    "            if j % 2 == 1:\n",
    "                tmp.append(tran[n-1-i][j])\n",
    "            else:\n",
    "                tmp.append(tran[i][j])\n",
    "        new_matrix.append(tmp)\n",
    "    return new_matrix\n",
    "\n",
    "upload_matrix(tran, 5) "
   ]
  },
  {
   "cell_type": "code",
   "execution_count": null,
   "id": "8b75461d-e0da-4224-9465-21fee27df39d",
   "metadata": {},
   "outputs": [],
   "source": []
  }
 ],
 "metadata": {
  "kernelspec": {
   "display_name": "Python [conda env:base] *",
   "language": "python",
   "name": "conda-base-py"
  },
  "language_info": {
   "codemirror_mode": {
    "name": "ipython",
    "version": 3
   },
   "file_extension": ".py",
   "mimetype": "text/x-python",
   "name": "python",
   "nbconvert_exporter": "python",
   "pygments_lexer": "ipython3",
   "version": "3.13.5"
  }
 },
 "nbformat": 4,
 "nbformat_minor": 5
}
